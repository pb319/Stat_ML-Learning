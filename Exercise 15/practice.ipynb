{
 "cells": [
  {
   "cell_type": "code",
   "execution_count": 20,
   "metadata": {},
   "outputs": [
    {
     "data": {
      "text/plain": [
       "['DESCR',\n",
       " 'data',\n",
       " 'data_module',\n",
       " 'feature_names',\n",
       " 'filename',\n",
       " 'frame',\n",
       " 'target',\n",
       " 'target_names']"
      ]
     },
     "execution_count": 20,
     "metadata": {},
     "output_type": "execute_result"
    }
   ],
   "source": [
    "from sklearn.datasets import load_iris\n",
    "iris = load_iris()\n",
    "dir(iris)"
   ]
  },
  {
   "cell_type": "code",
   "execution_count": 21,
   "metadata": {},
   "outputs": [
    {
     "data": {
      "text/html": [
       "<div>\n",
       "<style scoped>\n",
       "    .dataframe tbody tr th:only-of-type {\n",
       "        vertical-align: middle;\n",
       "    }\n",
       "\n",
       "    .dataframe tbody tr th {\n",
       "        vertical-align: top;\n",
       "    }\n",
       "\n",
       "    .dataframe thead th {\n",
       "        text-align: right;\n",
       "    }\n",
       "</style>\n",
       "<table border=\"1\" class=\"dataframe\">\n",
       "  <thead>\n",
       "    <tr style=\"text-align: right;\">\n",
       "      <th></th>\n",
       "      <th>sepal length (cm)</th>\n",
       "      <th>sepal width (cm)</th>\n",
       "      <th>petal length (cm)</th>\n",
       "      <th>petal width (cm)</th>\n",
       "      <th>target</th>\n",
       "      <th>label</th>\n",
       "    </tr>\n",
       "  </thead>\n",
       "  <tbody>\n",
       "    <tr>\n",
       "      <th>0</th>\n",
       "      <td>5.1</td>\n",
       "      <td>3.5</td>\n",
       "      <td>1.4</td>\n",
       "      <td>0.2</td>\n",
       "      <td>0</td>\n",
       "      <td>setosa</td>\n",
       "    </tr>\n",
       "    <tr>\n",
       "      <th>1</th>\n",
       "      <td>4.9</td>\n",
       "      <td>3.0</td>\n",
       "      <td>1.4</td>\n",
       "      <td>0.2</td>\n",
       "      <td>0</td>\n",
       "      <td>setosa</td>\n",
       "    </tr>\n",
       "    <tr>\n",
       "      <th>2</th>\n",
       "      <td>4.7</td>\n",
       "      <td>3.2</td>\n",
       "      <td>1.3</td>\n",
       "      <td>0.2</td>\n",
       "      <td>0</td>\n",
       "      <td>setosa</td>\n",
       "    </tr>\n",
       "    <tr>\n",
       "      <th>3</th>\n",
       "      <td>4.6</td>\n",
       "      <td>3.1</td>\n",
       "      <td>1.5</td>\n",
       "      <td>0.2</td>\n",
       "      <td>0</td>\n",
       "      <td>setosa</td>\n",
       "    </tr>\n",
       "    <tr>\n",
       "      <th>4</th>\n",
       "      <td>5.0</td>\n",
       "      <td>3.6</td>\n",
       "      <td>1.4</td>\n",
       "      <td>0.2</td>\n",
       "      <td>0</td>\n",
       "      <td>setosa</td>\n",
       "    </tr>\n",
       "  </tbody>\n",
       "</table>\n",
       "</div>"
      ],
      "text/plain": [
       "   sepal length (cm)  sepal width (cm)  petal length (cm)  petal width (cm)  \\\n",
       "0                5.1               3.5                1.4               0.2   \n",
       "1                4.9               3.0                1.4               0.2   \n",
       "2                4.7               3.2                1.3               0.2   \n",
       "3                4.6               3.1                1.5               0.2   \n",
       "4                5.0               3.6                1.4               0.2   \n",
       "\n",
       "   target   label  \n",
       "0       0  setosa  \n",
       "1       0  setosa  \n",
       "2       0  setosa  \n",
       "3       0  setosa  \n",
       "4       0  setosa  "
      ]
     },
     "execution_count": 21,
     "metadata": {},
     "output_type": "execute_result"
    }
   ],
   "source": [
    "import pandas as pd \n",
    "rd = pd.DataFrame(iris.data, columns= iris.feature_names)\n",
    "rd[\"target\"] = iris.target\n",
    "rd[\"label\"] = rd.target.apply(lambda x: iris.target_names[x])\n",
    "rd.head()"
   ]
  },
  {
   "cell_type": "code",
   "execution_count": 22,
   "metadata": {},
   "outputs": [
    {
     "data": {
      "text/plain": [
       "Index(['sepal length (cm)', 'sepal width (cm)', 'petal length (cm)',\n",
       "       'petal width (cm)', 'target', 'label'],\n",
       "      dtype='object')"
      ]
     },
     "execution_count": 22,
     "metadata": {},
     "output_type": "execute_result"
    }
   ],
   "source": [
    "rd.columns"
   ]
  },
  {
   "cell_type": "code",
   "execution_count": 23,
   "metadata": {},
   "outputs": [],
   "source": [
    "X= rd[['sepal length (cm)', 'sepal width (cm)', 'petal length (cm)','petal width (cm)']] # gives pandas.DataFrame object\n",
    "y= rd[['target']].values # gives numpy.ndarray object\n",
    "z = rd[\"target\"] # gives pandas.series object"
   ]
  },
  {
   "cell_type": "code",
   "execution_count": 24,
   "metadata": {},
   "outputs": [],
   "source": [
    "from sklearn.model_selection import train_test_split\n",
    "X_train, X_test, y_train, y_test = train_test_split(X,y, test_size= 0.3) # X_train, y_test has similar datatypes that of X,y\n"
   ]
  },
  {
   "cell_type": "code",
   "execution_count": 25,
   "metadata": {},
   "outputs": [
    {
     "data": {
      "text/plain": [
       "0.9333333333333333"
      ]
     },
     "execution_count": 25,
     "metadata": {},
     "output_type": "execute_result"
    }
   ],
   "source": [
    "from sklearn.svm import SVC\n",
    "s = SVC(C= 30, kernel= \"rbf\", gamma=\"auto\")\n",
    "s.fit(X_train,y_train.ravel())\n",
    "s.score(X_test,y_test.ravel())"
   ]
  },
  {
   "cell_type": "code",
   "execution_count": 26,
   "metadata": {},
   "outputs": [
    {
     "name": "stdout",
     "output_type": "stream",
     "text": [
      " Kernal = linear, C = 10 || Score = 0.9800000000000001\n",
      " Kernal = linear, C = 20 || Score = 0.9666666666666668\n",
      " Kernal = linear, C = 30 || Score = 0.9666666666666668\n",
      " Kernal = linear, C = 40 || Score = 0.9800000000000001\n",
      " Kernal = linear, C = 50 || Score = 0.9733333333333334\n",
      " Kernal = linear, C = 60 || Score = 0.9733333333333334\n",
      " Kernal = linear, C = 70 || Score = 0.9800000000000001\n",
      " Kernal = linear, C = 80 || Score = 0.9733333333333334\n",
      " Kernal = linear, C = 90 || Score = 0.9733333333333334\n",
      " Kernal = poly, C = 10 || Score = 0.9733333333333334\n",
      " Kernal = poly, C = 20 || Score = 0.9533333333333334\n",
      " Kernal = poly, C = 30 || Score = 0.9533333333333334\n",
      " Kernal = poly, C = 40 || Score = 0.96\n",
      " Kernal = poly, C = 50 || Score = 0.96\n",
      " Kernal = poly, C = 60 || Score = 0.96\n",
      " Kernal = poly, C = 70 || Score = 0.96\n",
      " Kernal = poly, C = 80 || Score = 0.96\n",
      " Kernal = poly, C = 90 || Score = 0.96\n",
      " Kernal = rbf, C = 10 || Score = 0.9733333333333334\n",
      " Kernal = rbf, C = 20 || Score = 0.9666666666666668\n",
      " Kernal = rbf, C = 30 || Score = 0.9600000000000002\n",
      " Kernal = rbf, C = 40 || Score = 0.9600000000000002\n",
      " Kernal = rbf, C = 50 || Score = 0.9600000000000002\n",
      " Kernal = rbf, C = 60 || Score = 0.9600000000000002\n",
      " Kernal = rbf, C = 70 || Score = 0.9600000000000002\n",
      " Kernal = rbf, C = 80 || Score = 0.9600000000000002\n",
      " Kernal = rbf, C = 90 || Score = 0.9600000000000002\n",
      " Kernal = sigmoid, C = 10 || Score = 0.06\n",
      " Kernal = sigmoid, C = 20 || Score = 0.06\n",
      " Kernal = sigmoid, C = 30 || Score = 0.06\n",
      " Kernal = sigmoid, C = 40 || Score = 0.06\n",
      " Kernal = sigmoid, C = 50 || Score = 0.06\n",
      " Kernal = sigmoid, C = 60 || Score = 0.06\n",
      " Kernal = sigmoid, C = 70 || Score = 0.06\n",
      " Kernal = sigmoid, C = 80 || Score = 0.06\n",
      " Kernal = sigmoid, C = 90 || Score = 0.06\n"
     ]
    }
   ],
   "source": [
    "from sklearn.model_selection import cross_val_score\n",
    "import numpy as np\n",
    "k = ['linear', 'poly', 'rbf', 'sigmoid']\n",
    "c = list(range(10,100,10))\n",
    "for i in k:\n",
    "    for j in c:\n",
    "        sc =(np.mean(cross_val_score(SVC(C=j,kernel=i,gamma= \"auto\"),X,y.ravel(),cv= 10)))\n",
    "        print(f\" Kernal = {i}, C = {j} || Score = {sc}\")\n",
    "  \n"
   ]
  },
  {
   "cell_type": "code",
   "execution_count": 27,
   "metadata": {},
   "outputs": [
    {
     "name": "stdout",
     "output_type": "stream",
     "text": [
      "<class 'pandas.core.frame.DataFrame'>\n",
      "RangeIndex: 12 entries, 0 to 11\n",
      "Data columns (total 20 columns):\n",
      " #   Column             Non-Null Count  Dtype  \n",
      "---  ------             --------------  -----  \n",
      " 0   mean_fit_time      12 non-null     float64\n",
      " 1   std_fit_time       12 non-null     float64\n",
      " 2   mean_score_time    12 non-null     float64\n",
      " 3   std_score_time     12 non-null     float64\n",
      " 4   param_C            12 non-null     int64  \n",
      " 5   param_kernel       12 non-null     object \n",
      " 6   params             12 non-null     object \n",
      " 7   split0_test_score  12 non-null     float64\n",
      " 8   split1_test_score  12 non-null     float64\n",
      " 9   split2_test_score  12 non-null     float64\n",
      " 10  split3_test_score  12 non-null     float64\n",
      " 11  split4_test_score  12 non-null     float64\n",
      " 12  split5_test_score  12 non-null     float64\n",
      " 13  split6_test_score  12 non-null     float64\n",
      " 14  split7_test_score  12 non-null     float64\n",
      " 15  split8_test_score  12 non-null     float64\n",
      " 16  split9_test_score  12 non-null     float64\n",
      " 17  mean_test_score    12 non-null     float64\n",
      " 18  std_test_score     12 non-null     float64\n",
      " 19  rank_test_score    12 non-null     int32  \n",
      "dtypes: float64(16), int32(1), int64(1), object(2)\n",
      "memory usage: 2.0+ KB\n"
     ]
    }
   ],
   "source": [
    "from sklearn.model_selection import GridSearchCV\n",
    "gsv =GridSearchCV(estimator= SVC(), param_grid= {'C':[10,20,30],'kernel':['linear', 'poly', 'rbf', 'sigmoid']},cv=10)\n",
    "gsv.fit(X,y.ravel())\n",
    "gsv.best_estimator_\n",
    "gsv.best_score_\n",
    "result  = pd.DataFrame(gsv.cv_results_)\n",
    "result.info(\n",
    ")"
   ]
  },
  {
   "cell_type": "code",
   "execution_count": 28,
   "metadata": {},
   "outputs": [
    {
     "data": {
      "text/html": [
       "<div>\n",
       "<style scoped>\n",
       "    .dataframe tbody tr th:only-of-type {\n",
       "        vertical-align: middle;\n",
       "    }\n",
       "\n",
       "    .dataframe tbody tr th {\n",
       "        vertical-align: top;\n",
       "    }\n",
       "\n",
       "    .dataframe thead th {\n",
       "        text-align: right;\n",
       "    }\n",
       "</style>\n",
       "<table border=\"1\" class=\"dataframe\">\n",
       "  <thead>\n",
       "    <tr style=\"text-align: right;\">\n",
       "      <th></th>\n",
       "      <th>mean_fit_time</th>\n",
       "      <th>param_C</th>\n",
       "      <th>param_kernel</th>\n",
       "      <th>mean_test_score</th>\n",
       "    </tr>\n",
       "  </thead>\n",
       "  <tbody>\n",
       "    <tr>\n",
       "      <th>0</th>\n",
       "      <td>0.002449</td>\n",
       "      <td>10</td>\n",
       "      <td>linear</td>\n",
       "      <td>0.980000</td>\n",
       "    </tr>\n",
       "    <tr>\n",
       "      <th>1</th>\n",
       "      <td>0.002143</td>\n",
       "      <td>10</td>\n",
       "      <td>poly</td>\n",
       "      <td>0.980000</td>\n",
       "    </tr>\n",
       "    <tr>\n",
       "      <th>2</th>\n",
       "      <td>0.001847</td>\n",
       "      <td>10</td>\n",
       "      <td>rbf</td>\n",
       "      <td>0.980000</td>\n",
       "    </tr>\n",
       "    <tr>\n",
       "      <th>3</th>\n",
       "      <td>0.002922</td>\n",
       "      <td>10</td>\n",
       "      <td>sigmoid</td>\n",
       "      <td>0.046667</td>\n",
       "    </tr>\n",
       "    <tr>\n",
       "      <th>4</th>\n",
       "      <td>0.001658</td>\n",
       "      <td>20</td>\n",
       "      <td>linear</td>\n",
       "      <td>0.966667</td>\n",
       "    </tr>\n",
       "    <tr>\n",
       "      <th>5</th>\n",
       "      <td>0.001820</td>\n",
       "      <td>20</td>\n",
       "      <td>poly</td>\n",
       "      <td>0.973333</td>\n",
       "    </tr>\n",
       "    <tr>\n",
       "      <th>6</th>\n",
       "      <td>0.001702</td>\n",
       "      <td>20</td>\n",
       "      <td>rbf</td>\n",
       "      <td>0.973333</td>\n",
       "    </tr>\n",
       "    <tr>\n",
       "      <th>7</th>\n",
       "      <td>0.002771</td>\n",
       "      <td>20</td>\n",
       "      <td>sigmoid</td>\n",
       "      <td>0.033333</td>\n",
       "    </tr>\n",
       "    <tr>\n",
       "      <th>8</th>\n",
       "      <td>0.001639</td>\n",
       "      <td>30</td>\n",
       "      <td>linear</td>\n",
       "      <td>0.966667</td>\n",
       "    </tr>\n",
       "    <tr>\n",
       "      <th>9</th>\n",
       "      <td>0.001825</td>\n",
       "      <td>30</td>\n",
       "      <td>poly</td>\n",
       "      <td>0.973333</td>\n",
       "    </tr>\n",
       "    <tr>\n",
       "      <th>10</th>\n",
       "      <td>0.001711</td>\n",
       "      <td>30</td>\n",
       "      <td>rbf</td>\n",
       "      <td>0.973333</td>\n",
       "    </tr>\n",
       "    <tr>\n",
       "      <th>11</th>\n",
       "      <td>0.002796</td>\n",
       "      <td>30</td>\n",
       "      <td>sigmoid</td>\n",
       "      <td>0.033333</td>\n",
       "    </tr>\n",
       "  </tbody>\n",
       "</table>\n",
       "</div>"
      ],
      "text/plain": [
       "    mean_fit_time  param_C param_kernel  mean_test_score\n",
       "0        0.002449       10       linear         0.980000\n",
       "1        0.002143       10         poly         0.980000\n",
       "2        0.001847       10          rbf         0.980000\n",
       "3        0.002922       10      sigmoid         0.046667\n",
       "4        0.001658       20       linear         0.966667\n",
       "5        0.001820       20         poly         0.973333\n",
       "6        0.001702       20          rbf         0.973333\n",
       "7        0.002771       20      sigmoid         0.033333\n",
       "8        0.001639       30       linear         0.966667\n",
       "9        0.001825       30         poly         0.973333\n",
       "10       0.001711       30          rbf         0.973333\n",
       "11       0.002796       30      sigmoid         0.033333"
      ]
     },
     "execution_count": 28,
     "metadata": {},
     "output_type": "execute_result"
    }
   ],
   "source": [
    "result[[\"mean_fit_time\",\"param_C\",\"param_kernel\",\"mean_test_score\"]]"
   ]
  },
  {
   "cell_type": "code",
   "execution_count": 29,
   "metadata": {},
   "outputs": [
    {
     "data": {
      "text/html": [
       "<div>\n",
       "<style scoped>\n",
       "    .dataframe tbody tr th:only-of-type {\n",
       "        vertical-align: middle;\n",
       "    }\n",
       "\n",
       "    .dataframe tbody tr th {\n",
       "        vertical-align: top;\n",
       "    }\n",
       "\n",
       "    .dataframe thead th {\n",
       "        text-align: right;\n",
       "    }\n",
       "</style>\n",
       "<table border=\"1\" class=\"dataframe\">\n",
       "  <thead>\n",
       "    <tr style=\"text-align: right;\">\n",
       "      <th></th>\n",
       "      <th>mean_fit_time</th>\n",
       "      <th>param_C</th>\n",
       "      <th>param_kernel</th>\n",
       "      <th>mean_test_score</th>\n",
       "    </tr>\n",
       "  </thead>\n",
       "  <tbody>\n",
       "    <tr>\n",
       "      <th>0</th>\n",
       "      <td>0.002634</td>\n",
       "      <td>10</td>\n",
       "      <td>poly</td>\n",
       "      <td>0.980000</td>\n",
       "    </tr>\n",
       "    <tr>\n",
       "      <th>1</th>\n",
       "      <td>0.001797</td>\n",
       "      <td>1</td>\n",
       "      <td>linear</td>\n",
       "      <td>0.973333</td>\n",
       "    </tr>\n",
       "    <tr>\n",
       "      <th>2</th>\n",
       "      <td>0.001770</td>\n",
       "      <td>10</td>\n",
       "      <td>linear</td>\n",
       "      <td>0.980000</td>\n",
       "    </tr>\n",
       "    <tr>\n",
       "      <th>3</th>\n",
       "      <td>0.001872</td>\n",
       "      <td>1</td>\n",
       "      <td>rbf</td>\n",
       "      <td>0.973333</td>\n",
       "    </tr>\n",
       "    <tr>\n",
       "      <th>4</th>\n",
       "      <td>0.001709</td>\n",
       "      <td>10</td>\n",
       "      <td>rbf</td>\n",
       "      <td>0.980000</td>\n",
       "    </tr>\n",
       "  </tbody>\n",
       "</table>\n",
       "</div>"
      ],
      "text/plain": [
       "   mean_fit_time  param_C param_kernel  mean_test_score\n",
       "0       0.002634       10         poly         0.980000\n",
       "1       0.001797        1       linear         0.973333\n",
       "2       0.001770       10       linear         0.980000\n",
       "3       0.001872        1          rbf         0.973333\n",
       "4       0.001709       10          rbf         0.980000"
      ]
     },
     "execution_count": 29,
     "metadata": {},
     "output_type": "execute_result"
    }
   ],
   "source": [
    "from sklearn.model_selection import RandomizedSearchCV\n",
    "ran = RandomizedSearchCV(estimator= SVC(),\n",
    "                         param_distributions= {\n",
    "                             'C':[1,10,20],\n",
    "                             'kernel':['linear', 'poly', 'rbf', 'sigmoid']\n",
    "                         }, cv = 10, n_iter= 5)\n",
    "ran.fit(X,y.ravel())\n",
    "ran.best_estimator_\n",
    "ran.best_score_\n",
    "result  = pd.DataFrame(ran.cv_results_)\n",
    "result[[\"mean_fit_time\",\"param_C\",\"param_kernel\",\"mean_test_score\"]]"
   ]
  },
  {
   "cell_type": "code",
   "execution_count": 30,
   "metadata": {},
   "outputs": [],
   "source": [
    "from sklearn.ensemble import RandomForestClassifier\n",
    "from sklearn.linear_model import LogisticRegression\n",
    "from sklearn.svm import SVC\n",
    "\n",
    "model_param ={'svm':\n",
    "               {\n",
    "                   'model':SVC(),\n",
    "                   'params':{\n",
    "                       'kernel':['linear', 'poly', 'rbf', 'sigmoid'],\n",
    "                       'C':[1,10,20,30,40,50]\n",
    "\n",
    "                       }\n",
    "                },\n",
    "               'ranf':{\n",
    "                   'model':RandomForestClassifier(),\n",
    "                   'params':{\n",
    "                       'n_estimators': list(range(10,100,15)),\n",
    "                       'criterion':['gini', 'entropy', 'log_loss']\n",
    "   \n",
    "                       }\n",
    "                   \n",
    "               },\n",
    "                 'logi':\n",
    "                 {\n",
    "\n",
    "                   'model':LogisticRegression(),\n",
    "                   'params':\n",
    "                   {\n",
    "                       'solver':['lbfgs', 'liblinear', 'newton-cg', 'newton-cholesky']\n",
    "                   }  \n",
    "                 }}"
   ]
  },
  {
   "cell_type": "code",
   "execution_count": 31,
   "metadata": {},
   "outputs": [
    {
     "name": "stdout",
     "output_type": "stream",
     "text": [
      "SVC()\n",
      "RandomForestClassifier()\n",
      "LogisticRegression()\n"
     ]
    }
   ],
   "source": [
    "for x,y in model_param.items():\n",
    "    print(y[\"model\"])"
   ]
  },
  {
   "cell_type": "code",
   "execution_count": 36,
   "metadata": {},
   "outputs": [
    {
     "name": "stderr",
     "output_type": "stream",
     "text": [
      "/home/prasun/python_workspace/penv/lib/python3.11/site-packages/sklearn/linear_model/_logistic.py:469: ConvergenceWarning: lbfgs failed to converge (status=1):\n",
      "STOP: TOTAL NO. of ITERATIONS REACHED LIMIT.\n",
      "\n",
      "Increase the number of iterations (max_iter) or scale the data as shown in:\n",
      "    https://scikit-learn.org/stable/modules/preprocessing.html\n",
      "Please also refer to the documentation for alternative solver options:\n",
      "    https://scikit-learn.org/stable/modules/linear_model.html#logistic-regression\n",
      "  n_iter_i = _check_optimize_result(\n",
      "/home/prasun/python_workspace/penv/lib/python3.11/site-packages/sklearn/linear_model/_logistic.py:469: ConvergenceWarning: lbfgs failed to converge (status=1):\n",
      "STOP: TOTAL NO. of ITERATIONS REACHED LIMIT.\n",
      "\n",
      "Increase the number of iterations (max_iter) or scale the data as shown in:\n",
      "    https://scikit-learn.org/stable/modules/preprocessing.html\n",
      "Please also refer to the documentation for alternative solver options:\n",
      "    https://scikit-learn.org/stable/modules/linear_model.html#logistic-regression\n",
      "  n_iter_i = _check_optimize_result(\n"
     ]
    }
   ],
   "source": [
    "from sklearn.model_selection import GridSearchCV\n",
    "score ={}\n",
    "\n",
    "for key,val in model_param.items():\n",
    "    grc = GridSearchCV(\n",
    "        estimator= val[\"model\"],\n",
    "        param_grid= val[\"params\"]\n",
    "    )\n",
    "    grc.fit(iris.data,iris.target)\n",
    "    score[key] = [grc.best_params_,grc.best_score_]\n",
    "\n",
    "\n",
    "    "
   ]
  },
  {
   "cell_type": "code",
   "execution_count": 39,
   "metadata": {},
   "outputs": [
    {
     "data": {
      "text/html": [
       "<div>\n",
       "<style scoped>\n",
       "    .dataframe tbody tr th:only-of-type {\n",
       "        vertical-align: middle;\n",
       "    }\n",
       "\n",
       "    .dataframe tbody tr th {\n",
       "        vertical-align: top;\n",
       "    }\n",
       "\n",
       "    .dataframe thead th {\n",
       "        text-align: right;\n",
       "    }\n",
       "</style>\n",
       "<table border=\"1\" class=\"dataframe\">\n",
       "  <thead>\n",
       "    <tr style=\"text-align: right;\">\n",
       "      <th></th>\n",
       "      <th>svm</th>\n",
       "      <th>ranf</th>\n",
       "      <th>logi</th>\n",
       "    </tr>\n",
       "  </thead>\n",
       "  <tbody>\n",
       "    <tr>\n",
       "      <th>0</th>\n",
       "      <td>{'C': 1, 'kernel': 'linear'}</td>\n",
       "      <td>{'criterion': 'gini', 'n_estimators': 55}</td>\n",
       "      <td>{'solver': 'lbfgs'}</td>\n",
       "    </tr>\n",
       "    <tr>\n",
       "      <th>1</th>\n",
       "      <td>0.98</td>\n",
       "      <td>0.966667</td>\n",
       "      <td>0.973333</td>\n",
       "    </tr>\n",
       "  </tbody>\n",
       "</table>\n",
       "</div>"
      ],
      "text/plain": [
       "                            svm                                       ranf  \\\n",
       "0  {'C': 1, 'kernel': 'linear'}  {'criterion': 'gini', 'n_estimators': 55}   \n",
       "1                          0.98                                   0.966667   \n",
       "\n",
       "                  logi  \n",
       "0  {'solver': 'lbfgs'}  \n",
       "1             0.973333  "
      ]
     },
     "execution_count": 39,
     "metadata": {},
     "output_type": "execute_result"
    }
   ],
   "source": [
    "df = pd.DataFrame(score)\n",
    "df"
   ]
  }
 ],
 "metadata": {
  "kernelspec": {
   "display_name": "myproject",
   "language": "python",
   "name": "myproject"
  },
  "language_info": {
   "codemirror_mode": {
    "name": "ipython",
    "version": 3
   },
   "file_extension": ".py",
   "mimetype": "text/x-python",
   "name": "python",
   "nbconvert_exporter": "python",
   "pygments_lexer": "ipython3",
   "version": "3.11.6"
  }
 },
 "nbformat": 4,
 "nbformat_minor": 2
}

{
 "cells": [
  {
   "cell_type": "code",
   "execution_count": 1,
   "metadata": {},
   "outputs": [],
   "source": [
    "# Suppress Warning for Clean Notebook\n",
    "import warnings\n",
    "warnings.filterwarnings(\"ignore\")"
   ]
  },
  {
   "cell_type": "code",
   "execution_count": 2,
   "metadata": {},
   "outputs": [
    {
     "data": {
      "text/plain": [
       "['DESCR', 'data', 'feature_names', 'frame', 'images', 'target', 'target_names']"
      ]
     },
     "execution_count": 2,
     "metadata": {},
     "output_type": "execute_result"
    }
   ],
   "source": [
    "from sklearn.datasets import load_digits\n",
    "digit = load_digits()\n",
    "dir(digit)"
   ]
  },
  {
   "cell_type": "code",
   "execution_count": 3,
   "metadata": {},
   "outputs": [],
   "source": [
    "import pandas as pd\n",
    "import numpy as np\n",
    "from sklearn.linear_model import LogisticRegression\n",
    "from sklearn.svm import SVC\n",
    "from sklearn.ensemble import RandomForestClassifier\n",
    "from sklearn.naive_bayes import GaussianNB\n",
    "from sklearn.model_selection import RandomizedSearchCV\n",
    "\n",
    "X = digit.data\n",
    "y = digit.target"
   ]
  },
  {
   "cell_type": "code",
   "execution_count": 4,
   "metadata": {},
   "outputs": [],
   "source": [
    "model_param ={\n",
    "    'logit':{\n",
    "        'model': LogisticRegression(),\n",
    "        'param':{\n",
    "            'solver': ['lbfgs', 'liblinear', 'newton-cg', 'newton-cholesky']\n",
    "        }\n",
    "    },\n",
    "    'svc':{\n",
    "        'model': SVC(),\n",
    "        'param':{\n",
    "            'C':[10,20,30,40,50],\n",
    "            'kernel': ['linear', 'poly', 'rbf', 'sigmoid']\n",
    "        }\n",
    "\n",
    "    },\n",
    "    'rnf':{\n",
    "        'model': RandomForestClassifier(),\n",
    "        'param': {\n",
    "            'n_estimators': list(range(10,100,10)),\n",
    "            'criterion':['gini', 'entropy', 'log_loss']\n",
    "        }\n",
    "\n",
    "    },\n",
    "    'gnb':{\n",
    "        'model': GaussianNB(),\n",
    "        'param':{\n",
    "            'var_smoothing': [1e-9] \n",
    "        }\n",
    "\n",
    "    }\n",
    "}"
   ]
  },
  {
   "cell_type": "code",
   "execution_count": 5,
   "metadata": {},
   "outputs": [],
   "source": [
    "score = []\n",
    "for (key,val) in model_param.items():\n",
    "    ran = RandomizedSearchCV(\n",
    "        estimator= val['model'],\n",
    "        param_distributions= val[\"param\"],\n",
    "        n_iter= 10\n",
    "    )\n",
    "    ran.fit(X,y.ravel())\n",
    "    score.append({\"Model\":[key], \"Parameter\":[ran.best_params_],\"Score\": [ran.best_score_]})"
   ]
  },
  {
   "cell_type": "code",
   "execution_count": 6,
   "metadata": {},
   "outputs": [
    {
     "data": {
      "text/plain": [
       "[{'Model': ['logit'],\n",
       "  'Parameter': [{'solver': 'liblinear'}],\n",
       "  'Score': [0.9221138966264315]},\n",
       " {'Model': ['svc'],\n",
       "  'Parameter': [{'kernel': 'rbf', 'C': 20}],\n",
       "  'Score': [0.9738502011761063]},\n",
       " {'Model': ['rnf'],\n",
       "  'Parameter': [{'n_estimators': 60, 'criterion': 'log_loss'}],\n",
       "  'Score': [0.9410306406685237]},\n",
       " {'Model': ['gnb'],\n",
       "  'Parameter': [{'var_smoothing': 1e-09}],\n",
       "  'Score': [0.8069281956050759]}]"
      ]
     },
     "execution_count": 6,
     "metadata": {},
     "output_type": "execute_result"
    }
   ],
   "source": [
    "score"
   ]
  },
  {
   "cell_type": "code",
   "execution_count": 7,
   "metadata": {},
   "outputs": [
    {
     "data": {
      "text/html": [
       "<div>\n",
       "<style scoped>\n",
       "    .dataframe tbody tr th:only-of-type {\n",
       "        vertical-align: middle;\n",
       "    }\n",
       "\n",
       "    .dataframe tbody tr th {\n",
       "        vertical-align: top;\n",
       "    }\n",
       "\n",
       "    .dataframe thead th {\n",
       "        text-align: right;\n",
       "    }\n",
       "</style>\n",
       "<table border=\"1\" class=\"dataframe\">\n",
       "  <thead>\n",
       "    <tr style=\"text-align: right;\">\n",
       "      <th></th>\n",
       "      <th>Model</th>\n",
       "      <th>Parameter</th>\n",
       "      <th>Score</th>\n",
       "    </tr>\n",
       "  </thead>\n",
       "  <tbody>\n",
       "    <tr>\n",
       "      <th>0</th>\n",
       "      <td>[logit]</td>\n",
       "      <td>[{'solver': 'liblinear'}]</td>\n",
       "      <td>[0.9221138966264315]</td>\n",
       "    </tr>\n",
       "    <tr>\n",
       "      <th>1</th>\n",
       "      <td>[svc]</td>\n",
       "      <td>[{'kernel': 'rbf', 'C': 20}]</td>\n",
       "      <td>[0.9738502011761063]</td>\n",
       "    </tr>\n",
       "    <tr>\n",
       "      <th>2</th>\n",
       "      <td>[rnf]</td>\n",
       "      <td>[{'n_estimators': 60, 'criterion': 'log_loss'}]</td>\n",
       "      <td>[0.9410306406685237]</td>\n",
       "    </tr>\n",
       "    <tr>\n",
       "      <th>3</th>\n",
       "      <td>[gnb]</td>\n",
       "      <td>[{'var_smoothing': 1e-09}]</td>\n",
       "      <td>[0.8069281956050759]</td>\n",
       "    </tr>\n",
       "  </tbody>\n",
       "</table>\n",
       "</div>"
      ],
      "text/plain": [
       "     Model                                        Parameter  \\\n",
       "0  [logit]                        [{'solver': 'liblinear'}]   \n",
       "1    [svc]                     [{'kernel': 'rbf', 'C': 20}]   \n",
       "2    [rnf]  [{'n_estimators': 60, 'criterion': 'log_loss'}]   \n",
       "3    [gnb]                       [{'var_smoothing': 1e-09}]   \n",
       "\n",
       "                  Score  \n",
       "0  [0.9221138966264315]  \n",
       "1  [0.9738502011761063]  \n",
       "2  [0.9410306406685237]  \n",
       "3  [0.8069281956050759]  "
      ]
     },
     "execution_count": 7,
     "metadata": {},
     "output_type": "execute_result"
    }
   ],
   "source": [
    "df = pd.DataFrame(data= score, columns= ['Model', 'Parameter', 'Score'])\n",
    "df"
   ]
  }
 ],
 "metadata": {
  "kernelspec": {
   "display_name": "myproject",
   "language": "python",
   "name": "myproject"
  },
  "language_info": {
   "codemirror_mode": {
    "name": "ipython",
    "version": 3
   },
   "file_extension": ".py",
   "mimetype": "text/x-python",
   "name": "python",
   "nbconvert_exporter": "python",
   "pygments_lexer": "ipython3",
   "version": "3.11.6"
  }
 },
 "nbformat": 4,
 "nbformat_minor": 2
}
